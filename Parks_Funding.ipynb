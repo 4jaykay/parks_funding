{
 "cells": [
  {
   "cell_type": "markdown",
   "id": "72930f72-47d2-4dea-82ff-12aa55d2ef5a",
   "metadata": {},
   "source": [
    "## Private and Public Funding of NYC Parks"
   ]
  },
  {
   "cell_type": "code",
   "execution_count": 1,
   "id": "b3adb5f3-91b9-47db-8b9c-592adb694ed1",
   "metadata": {},
   "outputs": [],
   "source": [
    "import pandas as pd\n",
    "import seaborn as sns\n",
    "import numpy as np\n",
    "import matplotlib.pyplot as plt"
   ]
  },
  {
   "cell_type": "code",
   "execution_count": 2,
   "id": "d5c920f5-21a0-4c7d-9dff-9bc39eb77629",
   "metadata": {
    "tags": []
   },
   "outputs": [],
   "source": [
    "df = pd.read_csv(\"/Users/juliekerisel/Downloads/parks_funding.csv\")"
   ]
  },
  {
   "cell_type": "code",
   "execution_count": 3,
   "id": "a4df6434-b6a5-4406-80b8-97e26c43faa0",
   "metadata": {},
   "outputs": [
    {
     "data": {
      "text/html": [
       "<div>\n",
       "<style scoped>\n",
       "    .dataframe tbody tr th:only-of-type {\n",
       "        vertical-align: middle;\n",
       "    }\n",
       "\n",
       "    .dataframe tbody tr th {\n",
       "        vertical-align: top;\n",
       "    }\n",
       "\n",
       "    .dataframe thead th {\n",
       "        text-align: right;\n",
       "    }\n",
       "</style>\n",
       "<table border=\"1\" class=\"dataframe\">\n",
       "  <thead>\n",
       "    <tr style=\"text-align: right;\">\n",
       "      <th></th>\n",
       "      <th>boro</th>\n",
       "      <th>Name_Proper</th>\n",
       "      <th>maintenance_funding</th>\n",
       "      <th>private_funding</th>\n",
       "      <th>ACREAGE</th>\n",
       "    </tr>\n",
       "  </thead>\n",
       "  <tbody>\n",
       "    <tr>\n",
       "      <th>572</th>\n",
       "      <td>Queens</td>\n",
       "      <td>Flushing Meadows Corona Park</td>\n",
       "      <td>2111504</td>\n",
       "      <td>595902</td>\n",
       "      <td>897.69</td>\n",
       "    </tr>\n",
       "    <tr>\n",
       "      <th>1469</th>\n",
       "      <td>Brooklyn</td>\n",
       "      <td>Prospect Park</td>\n",
       "      <td>1173653</td>\n",
       "      <td>1942874</td>\n",
       "      <td>540.51</td>\n",
       "    </tr>\n",
       "    <tr>\n",
       "      <th>579</th>\n",
       "      <td>Queens</td>\n",
       "      <td>Forest Park</td>\n",
       "      <td>1112711</td>\n",
       "      <td>0</td>\n",
       "      <td>506.86</td>\n",
       "    </tr>\n",
       "    <tr>\n",
       "      <th>578</th>\n",
       "      <td>Brooklyn</td>\n",
       "      <td>Forest Park</td>\n",
       "      <td>1112711</td>\n",
       "      <td>0</td>\n",
       "      <td>506.86</td>\n",
       "    </tr>\n",
       "    <tr>\n",
       "      <th>599</th>\n",
       "      <td>Staten Island</td>\n",
       "      <td>Franklin D. Roosevelt Boardwalk And Beach</td>\n",
       "      <td>824079</td>\n",
       "      <td>0</td>\n",
       "      <td>644.35</td>\n",
       "    </tr>\n",
       "    <tr>\n",
       "      <th>1530</th>\n",
       "      <td>Manhattan</td>\n",
       "      <td>Riverside Park</td>\n",
       "      <td>724119</td>\n",
       "      <td>1370333</td>\n",
       "      <td>260.44</td>\n",
       "    </tr>\n",
       "    <tr>\n",
       "      <th>1395</th>\n",
       "      <td>Bronx</td>\n",
       "      <td>Pelham Bay Park</td>\n",
       "      <td>722513</td>\n",
       "      <td>0</td>\n",
       "      <td>2771.75</td>\n",
       "    </tr>\n",
       "    <tr>\n",
       "      <th>358</th>\n",
       "      <td>Brooklyn</td>\n",
       "      <td>Coney Island Beach &amp; Boardwalk</td>\n",
       "      <td>690924</td>\n",
       "      <td>0</td>\n",
       "      <td>399.47</td>\n",
       "    </tr>\n",
       "    <tr>\n",
       "      <th>254</th>\n",
       "      <td>Brooklyn</td>\n",
       "      <td>Canarsie Park</td>\n",
       "      <td>623409</td>\n",
       "      <td>0</td>\n",
       "      <td>132.20</td>\n",
       "    </tr>\n",
       "    <tr>\n",
       "      <th>1853</th>\n",
       "      <td>Bronx</td>\n",
       "      <td>Van Cortlandt Park</td>\n",
       "      <td>549162</td>\n",
       "      <td>116477</td>\n",
       "      <td>1146.43</td>\n",
       "    </tr>\n",
       "  </tbody>\n",
       "</table>\n",
       "</div>"
      ],
      "text/plain": [
       "               boro                                Name_Proper  \\\n",
       "572          Queens               Flushing Meadows Corona Park   \n",
       "1469       Brooklyn                              Prospect Park   \n",
       "579          Queens                                Forest Park   \n",
       "578        Brooklyn                                Forest Park   \n",
       "599   Staten Island  Franklin D. Roosevelt Boardwalk And Beach   \n",
       "1530      Manhattan                             Riverside Park   \n",
       "1395          Bronx                            Pelham Bay Park   \n",
       "358        Brooklyn             Coney Island Beach & Boardwalk   \n",
       "254        Brooklyn                              Canarsie Park   \n",
       "1853          Bronx                         Van Cortlandt Park   \n",
       "\n",
       "      maintenance_funding  private_funding  ACREAGE  \n",
       "572               2111504           595902   897.69  \n",
       "1469              1173653          1942874   540.51  \n",
       "579               1112711                0   506.86  \n",
       "578               1112711                0   506.86  \n",
       "599                824079                0   644.35  \n",
       "1530               724119          1370333   260.44  \n",
       "1395               722513                0  2771.75  \n",
       "358                690924                0   399.47  \n",
       "254                623409                0   132.20  \n",
       "1853               549162           116477  1146.43  "
      ]
     },
     "execution_count": 3,
     "metadata": {},
     "output_type": "execute_result"
    }
   ],
   "source": [
    "#Parks with 10 highest maintenance funding\n",
    "df.sort_values(by= 'maintenance_funding', ascending=False).head(10)"
   ]
  },
  {
   "cell_type": "code",
   "execution_count": 4,
   "id": "802eab3b-49cf-4d0d-bafe-e0bc1f7ac5cc",
   "metadata": {},
   "outputs": [
    {
     "data": {
      "text/html": [
       "<div>\n",
       "<style scoped>\n",
       "    .dataframe tbody tr th:only-of-type {\n",
       "        vertical-align: middle;\n",
       "    }\n",
       "\n",
       "    .dataframe tbody tr th {\n",
       "        vertical-align: top;\n",
       "    }\n",
       "\n",
       "    .dataframe thead th {\n",
       "        text-align: right;\n",
       "    }\n",
       "</style>\n",
       "<table border=\"1\" class=\"dataframe\">\n",
       "  <thead>\n",
       "    <tr style=\"text-align: right;\">\n",
       "      <th></th>\n",
       "      <th>boro</th>\n",
       "      <th>Name_Proper</th>\n",
       "      <th>maintenance_funding</th>\n",
       "      <th>private_funding</th>\n",
       "      <th>ACREAGE</th>\n",
       "    </tr>\n",
       "  </thead>\n",
       "  <tbody>\n",
       "    <tr>\n",
       "      <th>282</th>\n",
       "      <td>Manhattan</td>\n",
       "      <td>Central Park</td>\n",
       "      <td>446300</td>\n",
       "      <td>24717743</td>\n",
       "      <td>840.64</td>\n",
       "    </tr>\n",
       "    <tr>\n",
       "      <th>235</th>\n",
       "      <td>Manhattan</td>\n",
       "      <td>Bryant Park</td>\n",
       "      <td>2408</td>\n",
       "      <td>8584181</td>\n",
       "      <td>9.60</td>\n",
       "    </tr>\n",
       "    <tr>\n",
       "      <th>1469</th>\n",
       "      <td>Brooklyn</td>\n",
       "      <td>Prospect Park</td>\n",
       "      <td>1173653</td>\n",
       "      <td>1942874</td>\n",
       "      <td>540.51</td>\n",
       "    </tr>\n",
       "    <tr>\n",
       "      <th>218</th>\n",
       "      <td>Brooklyn</td>\n",
       "      <td>Brooklyn Bridge Park</td>\n",
       "      <td>13008</td>\n",
       "      <td>1482623</td>\n",
       "      <td>21.38</td>\n",
       "    </tr>\n",
       "    <tr>\n",
       "      <th>219</th>\n",
       "      <td>Manhattan</td>\n",
       "      <td>Brooklyn Bridge Park</td>\n",
       "      <td>13008</td>\n",
       "      <td>1482623</td>\n",
       "      <td>21.38</td>\n",
       "    </tr>\n",
       "    <tr>\n",
       "      <th>1044</th>\n",
       "      <td>Manhattan</td>\n",
       "      <td>Madison Square Park</td>\n",
       "      <td>14042</td>\n",
       "      <td>1421056</td>\n",
       "      <td>6.23</td>\n",
       "    </tr>\n",
       "    <tr>\n",
       "      <th>1530</th>\n",
       "      <td>Manhattan</td>\n",
       "      <td>Riverside Park</td>\n",
       "      <td>724119</td>\n",
       "      <td>1370333</td>\n",
       "      <td>260.44</td>\n",
       "    </tr>\n",
       "    <tr>\n",
       "      <th>1764</th>\n",
       "      <td>Manhattan</td>\n",
       "      <td>The Battery</td>\n",
       "      <td>45736</td>\n",
       "      <td>1358909</td>\n",
       "      <td>21.88</td>\n",
       "    </tr>\n",
       "    <tr>\n",
       "      <th>541</th>\n",
       "      <td>Manhattan</td>\n",
       "      <td>Father Duffy Square</td>\n",
       "      <td>1092</td>\n",
       "      <td>1112098</td>\n",
       "      <td>0.08</td>\n",
       "    </tr>\n",
       "    <tr>\n",
       "      <th>572</th>\n",
       "      <td>Queens</td>\n",
       "      <td>Flushing Meadows Corona Park</td>\n",
       "      <td>2111504</td>\n",
       "      <td>595902</td>\n",
       "      <td>897.69</td>\n",
       "    </tr>\n",
       "    <tr>\n",
       "      <th>839</th>\n",
       "      <td>Queens</td>\n",
       "      <td>Idlewild Park</td>\n",
       "      <td>6642</td>\n",
       "      <td>530000</td>\n",
       "      <td>180.85</td>\n",
       "    </tr>\n",
       "  </tbody>\n",
       "</table>\n",
       "</div>"
      ],
      "text/plain": [
       "           boro                   Name_Proper  maintenance_funding  \\\n",
       "282   Manhattan                  Central Park               446300   \n",
       "235   Manhattan                   Bryant Park                 2408   \n",
       "1469   Brooklyn                 Prospect Park              1173653   \n",
       "218    Brooklyn          Brooklyn Bridge Park                13008   \n",
       "219   Manhattan          Brooklyn Bridge Park                13008   \n",
       "1044  Manhattan           Madison Square Park                14042   \n",
       "1530  Manhattan                Riverside Park               724119   \n",
       "1764  Manhattan                   The Battery                45736   \n",
       "541   Manhattan           Father Duffy Square                 1092   \n",
       "572      Queens  Flushing Meadows Corona Park              2111504   \n",
       "839      Queens                 Idlewild Park                 6642   \n",
       "\n",
       "      private_funding  ACREAGE  \n",
       "282          24717743   840.64  \n",
       "235           8584181     9.60  \n",
       "1469          1942874   540.51  \n",
       "218           1482623    21.38  \n",
       "219           1482623    21.38  \n",
       "1044          1421056     6.23  \n",
       "1530          1370333   260.44  \n",
       "1764          1358909    21.88  \n",
       "541           1112098     0.08  \n",
       "572            595902   897.69  \n",
       "839            530000   180.85  "
      ]
     },
     "execution_count": 4,
     "metadata": {},
     "output_type": "execute_result"
    }
   ],
   "source": [
    "#Parks with 10 highest private funding\n",
    "df.sort_values(by= 'private_funding', ascending=False).head(11)"
   ]
  },
  {
   "cell_type": "code",
   "execution_count": 6,
   "id": "ed25c783-4999-4e57-9823-da33a27536a0",
   "metadata": {},
   "outputs": [],
   "source": [
    "#Median maintenance funding per borough\n",
    "median_public_funding= df.groupby(['boro']).median()['maintenance_funding']"
   ]
  },
  {
   "cell_type": "code",
   "execution_count": 7,
   "id": "18849e8c-d94f-43cb-b77b-cefba5a80f25",
   "metadata": {},
   "outputs": [
    {
     "data": {
      "text/plain": [
       "boro\n",
       "Bronx            5691.0\n",
       "Brooklyn         6393.0\n",
       "Manhattan        5932.5\n",
       "Queens           5294.0\n",
       "Staten Island    5117.5\n",
       "Name: maintenance_funding, dtype: float64"
      ]
     },
     "execution_count": 7,
     "metadata": {},
     "output_type": "execute_result"
    }
   ],
   "source": [
    "median_public_funding"
   ]
  },
  {
   "cell_type": "code",
   "execution_count": 9,
   "id": "cdbd779a-d817-469b-9c40-e3bdcedc155b",
   "metadata": {},
   "outputs": [
    {
     "data": {
      "image/png": "[encoded data removed]",
      "text/plain": [
       "<Figure size 432x360 with 1 Axes>"
      ]
     },
     "metadata": {
      "needs_background": "light"
     },
     "output_type": "display_data"
    }
   ],
   "source": [
    "#Bar chart of median maintenance funding by borough\n",
    "median_public_funding.plot(kind='bar', title='NYC Parks Public Funding', ylabel='Median Public Funding',\n",
    "         xlabel='Borough', figsize=(6, 5), color=['#8C517D'])\n",
    "plt.show()"
   ]
  },
  {
   "cell_type": "code",
   "execution_count": 10,
   "id": "68cee16b-11e7-4346-bab2-fcb7a3fb1f8a",
   "metadata": {},
   "outputs": [
    {
     "data": {
      "text/plain": [
       "boro\n",
       "Bronx            0.0\n",
       "Brooklyn         0.0\n",
       "Manhattan        0.0\n",
       "Queens           0.0\n",
       "Staten Island    0.0\n",
       "Name: private_funding, dtype: float64"
      ]
     },
     "execution_count": 10,
     "metadata": {},
     "output_type": "execute_result"
    }
   ],
   "source": [
    "#Median private funding per borough\n",
    "df.groupby(['boro']).median()['private_funding']"
   ]
  },
  {
   "cell_type": "code",
   "execution_count": 11,
   "id": "76913257-58a7-425f-891a-4a9b1c2b812e",
   "metadata": {},
   "outputs": [],
   "source": [
    "#Total public funding by borough\n",
    "public_sum= df.pivot_table(index=['boro'],aggfunc={'maintenance_funding':np.sum})"
   ]
  },
  {
   "cell_type": "code",
   "execution_count": 12,
   "id": "79d05970-862b-4b3f-a9b9-34d7e162cb79",
   "metadata": {},
   "outputs": [],
   "source": [
    "#Total private funding by borough\n",
    "private_sum= df.pivot_table(index=['boro'],aggfunc={'private_funding':np.sum})"
   ]
  },
  {
   "cell_type": "code",
   "execution_count": 14,
   "id": "db85d158-0ce3-4ac5-bd66-e7b9e788900f",
   "metadata": {},
   "outputs": [
    {
     "data": {
      "image/png": "[encoded data removed]",
      "text/plain": [
       "<Figure size 432x288 with 1 Axes>"
      ]
     },
     "metadata": {
      "needs_background": "light"
     },
     "output_type": "display_data"
    }
   ],
   "source": [
    "#Plotting private and public funding per borough\n",
    "\n",
    "barWidth=0.25\n",
    "\n",
    "bars1 = private_sum['private_funding']\n",
    "bars2 = public_sum['maintenance_funding']\n",
    "\n",
    "r1 = np.arange(len(bars1))\n",
    "r2 = [x + barWidth for x in r1]\n",
    "\n",
    "plt.bar(r1, bars1, color='#92A68A', width=barWidth, label=\"Private Funding\")\n",
    "plt.bar(r2, bars2, color=\"#8C517D\", width=barWidth, label=\"Public Funding\")\n",
    "\n",
    "plt.xlabel(\"Borough\", fontweight=\"bold\")\n",
    "plt.xticks([r + barWidth for r in range(len(bars1))], ['Bronx', 'Brooklyn', 'Manhattan', 'Queens', 'Staten Island'])\n",
    "plt.title('Funding Per Borough')\n",
    "plt.legend()\n",
    "plt.show()"
   ]
  },
  {
   "cell_type": "code",
   "execution_count": 15,
   "id": "cf012cae-cc51-4af4-bd6b-1e183d0c8d67",
   "metadata": {},
   "outputs": [],
   "source": [
    "#Public funding as percentage of total public funding of NYC Parks\n",
    "percentage_maintenance= df.groupby(['boro']).sum()['maintenance_funding']/df.sum()['maintenance_funding']*100"
   ]
  },
  {
   "cell_type": "code",
   "execution_count": 16,
   "id": "2106c96d-834f-4fe1-8895-034243d5554b",
   "metadata": {},
   "outputs": [
    {
     "data": {
      "text/plain": [
       "boro\n",
       "Bronx            15.979806\n",
       "Brooklyn         31.998668\n",
       "Manhattan        20.480088\n",
       "Queens           24.707842\n",
       "Staten Island     6.833595\n",
       "Name: maintenance_funding, dtype: float64"
      ]
     },
     "execution_count": 16,
     "metadata": {},
     "output_type": "execute_result"
    }
   ],
   "source": [
    "percentage_maintenance"
   ]
  },
  {
   "cell_type": "code",
   "execution_count": 17,
   "id": "83a4f9b8-63fe-4183-8ac4-81bf100d589c",
   "metadata": {},
   "outputs": [
    {
     "data": {
      "image/png": "[encoded data removed]",
      "text/plain": [
       "<Figure size 432x288 with 1 Axes>"
      ]
     },
     "metadata": {},
     "output_type": "display_data"
    },
    {
     "data": {
      "text/plain": [
       "<Figure size 432x288 with 0 Axes>"
      ]
     },
     "metadata": {},
     "output_type": "display_data"
    }
   ],
   "source": [
    "#Plotting distribution of public funding by borough\n",
    "public_pie=percentage_maintenance\n",
    "labels=[\"Bronx\", \"Brooklyn\", \"Manhattan\", \"Queens\", \"Staten Island\"]\n",
    "colors=[\"#92A68A\",'#EBF2DC', \"#8C517D\",\"#DCA8CB\",\"#718165\"]\n",
    "plt.pie(public_pie, labels= labels, colors= colors,autopct='%.0f%%')\n",
    "plt.title(\"NYC Parks' Public Funding\")\n",
    "\n",
    "fig3 = plt.gcf()\n",
    "plt.show()\n",
    "plt.draw()\n",
    "fig3.savefig('public_perc.svg', dpi=100) "
   ]
  },
  {
   "cell_type": "code",
   "execution_count": 18,
   "id": "af5aed65-cc46-426d-b4f5-e157b3cef654",
   "metadata": {},
   "outputs": [],
   "source": [
    "#Private funding as percentage of total public funding of NYC Parks\n",
    "percentage_private= df.groupby(['boro']).sum()['private_funding']/df.sum()['private_funding']*100"
   ]
  },
  {
   "cell_type": "code",
   "execution_count": 19,
   "id": "30605320-d43c-460d-a830-0a4ad140c413",
   "metadata": {},
   "outputs": [
    {
     "data": {
      "text/plain": [
       "boro\n",
       "Bronx             0.328512\n",
       "Brooklyn          7.647838\n",
       "Manhattan        89.461514\n",
       "Queens            2.562136\n",
       "Staten Island     0.000000\n",
       "Name: private_funding, dtype: float64"
      ]
     },
     "execution_count": 19,
     "metadata": {},
     "output_type": "execute_result"
    }
   ],
   "source": [
    "percentage_private"
   ]
  },
  {
   "cell_type": "code",
   "execution_count": 20,
   "id": "8f2b57d8-b8af-43c3-9d9f-e0ef28866bb8",
   "metadata": {},
   "outputs": [],
   "source": [
    "#Drop 0 (Staten Island) for plot \n",
    "percentage_private = percentage_private.drop([\"Staten Island\"])"
   ]
  },
  {
   "cell_type": "code",
   "execution_count": 21,
   "id": "c7842c51-9346-4799-8893-fcb3a1d7871a",
   "metadata": {},
   "outputs": [
    {
     "data": {
      "image/png": "[encoded data removed]",
      "text/plain": [
       "<Figure size 432x288 with 1 Axes>"
      ]
     },
     "metadata": {},
     "output_type": "display_data"
    }
   ],
   "source": [
    "#Plotting distribution of private funding by borough\n",
    "private_pie=percentage_private\n",
    "labels2=[\"Bronx\", \"Brooklyn\", \"Manhattan\", \"Queens\"]\n",
    "colors2=[\"#92A68A\",'#EBF2DC', \"#8C517D\",\"#DCA8CB\"]\n",
    "plt.pie(private_pie, labels= labels2, colors= colors2, autopct='%.0f%%')\n",
    "plt.title(\"NYC Parks' Private Funding\")\n",
    "plt.show()"
   ]
  }
 ],
 "metadata": {
  "kernelspec": {
   "display_name": "info615",
   "language": "python",
   "name": "info615"
  },
  "language_info": {
   "codemirror_mode": {
    "name": "ipython",
    "version": 3
   },
   "file_extension": ".py",
   "mimetype": "text/x-python",
   "name": "python",
   "nbconvert_exporter": "python",
   "pygments_lexer": "ipython3",
   "version": "3.10.2"
  }
 },
 "nbformat": 4,
 "nbformat_minor": 5
}
